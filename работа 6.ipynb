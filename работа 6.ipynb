{
  "nbformat": 4,
  "nbformat_minor": 0,
  "metadata": {
    "colab": {
      "provenance": []
    },
    "kernelspec": {
      "name": "python3",
      "display_name": "Python 3"
    },
    "language_info": {
      "name": "python"
    }
  },
  "cells": [
    {
      "cell_type": "code",
      "source": [
        "def is_palindrome(string):\n",
        "    string = string.replace(\" \", \"\")\n",
        "    string = string.lower()\n",
        "    return string == string[::-1]\n",
        "print(is_palindrome(\"А роза упала на лапу Азора\"))\n",
        "print(is_palindrome(\"hello world\"))\n",
        "print(is_palindrome(\"level\"))"
      ],
      "metadata": {
        "colab": {
          "base_uri": "https://localhost:8080/"
        },
        "id": "D-b7d9GLhhvA",
        "outputId": "739500bf-ca85-45f0-ec41-3ef2c34a57a7"
      },
      "execution_count": 9,
      "outputs": [
        {
          "output_type": "stream",
          "name": "stdout",
          "text": [
            "True\n",
            "False\n",
            "True\n"
          ]
        }
      ]
    },
    {
      "cell_type": "code",
      "source": [
        "def personal_info(name, surname, patronymic, age):\n",
        " return f\"{surname} {name} {patronymic} {age} г.р. зарегистрирован\"\n",
        "\n",
        "name = \"Иван\"\n",
        "surname = \"Иванов\"\n",
        "patronymic = \"Иванович\"\n",
        "age = 1973\n",
        "\n",
        "print(personal_info(name, surname, patronymic, age))"
      ],
      "metadata": {
        "colab": {
          "base_uri": "https://localhost:8080/"
        },
        "id": "0kDmf107h7Ug",
        "outputId": "bd504c77-14cb-4335-9275-2612ee4840ea"
      },
      "execution_count": 11,
      "outputs": [
        {
          "output_type": "stream",
          "name": "stdout",
          "text": [
            "Иванов Иван Иванович 1973 г.р. зарегистрирован\n"
          ]
        }
      ]
    },
    {
      "cell_type": "code",
      "source": [
        "def get_max(a, b, c=None):\n",
        " if c is None:\n",
        "    return a if a > b else b\n",
        " else:\n",
        "    if a > b and a > c:\n",
        "     return a\n",
        "    elif b > a and b > c:\n",
        "     return b\n",
        "    else:\n",
        "     return c\n",
        "print(get_max(5, 10))\n",
        "print(get_max(2, 7, 4))\n",
        "print(get_max(9, 2, 5))\n"
      ],
      "metadata": {
        "colab": {
          "base_uri": "https://localhost:8080/"
        },
        "id": "eWcK21_jiWFZ",
        "outputId": "322ccc39-4690-4704-9ca2-5c88a7be89ad"
      },
      "execution_count": 40,
      "outputs": [
        {
          "output_type": "stream",
          "name": "stdout",
          "text": [
            "10\n",
            "7\n",
            "9\n"
          ]
        }
      ]
    }
  ]
}