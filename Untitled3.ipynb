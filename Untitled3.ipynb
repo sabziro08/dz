{
  "nbformat": 4,
  "nbformat_minor": 0,
  "metadata": {
    "colab": {
      "provenance": []
    },
    "kernelspec": {
      "name": "python3",
      "display_name": "Python 3"
    },
    "language_info": {
      "name": "python"
    }
  },
  "cells": [
    {
      "cell_type": "code",
      "execution_count": 4,
      "metadata": {
        "colab": {
          "base_uri": "https://localhost:8080/"
        },
        "id": "L8l03uEeGJKa",
        "outputId": "06a6195b-24f7-48f1-c636-c0dccd6727d1"
      },
      "outputs": [
        {
          "output_type": "stream",
          "name": "stdout",
          "text": [
            "3.737\n"
          ]
        }
      ],
      "source": [
        "print(round(3.737373, 3))"
      ]
    },
    {
      "cell_type": "code",
      "source": [
        "print(\"Найдите Среднее арифметическое\")\n",
        "a = float (input(\"Введите число\"))\n",
        "b = float (input(\"Введите число\"))\n",
        "print ((a + b)/2)\n",
        "print(round((a + b)/2, 0))"
      ],
      "metadata": {
        "colab": {
          "base_uri": "https://localhost:8080/"
        },
        "id": "fvTRbr8YGKw6",
        "outputId": "690bf652-d4ab-4019-dbb5-b8234275d192"
      },
      "execution_count": 5,
      "outputs": [
        {
          "output_type": "stream",
          "name": "stdout",
          "text": [
            "Найдите Среднее арифметическое\n",
            "Введите число5.6767676\n",
            "Введите число6.76767\n",
            "6.2222188\n",
            "6.0\n"
          ]
        }
      ]
    }
  ]
}