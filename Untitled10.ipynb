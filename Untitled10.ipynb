{
  "nbformat": 4,
  "nbformat_minor": 0,
  "metadata": {
    "colab": {
      "provenance": []
    },
    "kernelspec": {
      "name": "python3",
      "display_name": "Python 3"
    },
    "language_info": {
      "name": "python"
    }
  },
  "cells": [
    {
      "cell_type": "code",
      "source": [
        "n = int(input())\n",
        "cities = {}\n",
        "\n",
        "for i in range(n):\n",
        "    city = input()\n",
        "    if city in cities:\n",
        "        cities[city] += 1\n",
        "    else:\n",
        "        cities[city] = 1\n",
        "\n",
        "repeated_cities = 0\n",
        "for city, count in cities.items():\n",
        "    if count > 1:\n",
        "        repeated_cities += 2\n",
        "\n",
        "print(repeated_cities)\n"
      ],
      "metadata": {
        "colab": {
          "base_uri": "https://localhost:8080/"
        },
        "id": "DLrtfi1ZJHF0",
        "outputId": "b0dc33c3-7516-45e4-f767-2971981d7ff1"
      },
      "execution_count": 10,
      "outputs": [
        {
          "output_type": "stream",
          "name": "stdout",
          "text": [
            "6\n",
            "Курск\n",
            "Калуга\n",
            "Анапа\n",
            "Анапа\n",
            "Абинск\n",
            "Курск\n",
            "4\n"
          ]
        }
      ]
    },
    {
      "cell_type": "code",
      "source": [
        "def capitalize_text(text):\n",
        "    capitalized_text = \"\"\n",
        "    capitalize_next = True\n",
        "\n",
        "    for i in range(len(text)):\n",
        "        if capitalize_next and text[i] != \" \":\n",
        "            capitalized_text += text[i].upper()\n",
        "            capitalize_next = False\n",
        "        else:\n",
        "            capitalized_text += text[i]\n",
        "\n",
        "        if text[i] in [\".\", \"!\", \"?\"]:\n",
        "            capitalize_next = True\n",
        "\n",
        "    return capitalized_text\n",
        "\n",
        "\n",
        "text = input(\"Введите текст:\")  # \"на этом заканчиваю свое сочинение. поставьте пятерку, Мария Ивановна! я очень старалась!\"\n",
        "capitalized_text = capitalize_text(text)\n",
        "print(capitalized_text)  # \"На этом заканчиваю свое сочинение. Поставьте пятерку, Мария Ивановна! Я очень старалась!\"\n"
      ],
      "metadata": {
        "colab": {
          "base_uri": "https://localhost:8080/"
        },
        "id": "pA3HP5doLHzH",
        "outputId": "d517120b-0805-4e22-e834-6b8096a6fdef"
      },
      "execution_count": 13,
      "outputs": [
        {
          "output_type": "stream",
          "name": "stdout",
          "text": [
            "Введите текст:на этом заканчиваю свое сочинение. поставьте пятерку, Мария Ивановна! я очень старалась\n",
            "На этом заканчиваю свое сочинение. Поставьте пятерку, Мария Ивановна! Я очень старалась\n"
          ]
        }
      ]
    },
    {
      "cell_type": "code",
      "source": [
        "\n",
        "string1 = input(\"Введите первую строку: \")\n",
        "string2 = input(\"Введите вторую строку: \")\n",
        "\n",
        "\n",
        "string1 = string1.replace(\" \", \"\").lower()\n",
        "string2 = string2.replace(\" \", \"\").lower()\n",
        "\n",
        "set1 = set(string1)\n",
        "set2 = set(string2)\n",
        "\n",
        "if set1 == set2:\n",
        "    print(\"Строки являются анаграммами\")\n",
        "else:\n",
        "    print(\"Строки не являются анаграммами\")\n"
      ],
      "metadata": {
        "colab": {
          "base_uri": "https://localhost:8080/"
        },
        "id": "y3WEvb3wLMhz",
        "outputId": "70547442-7177-4d12-d41f-95428591208b"
      },
      "execution_count": 14,
      "outputs": [
        {
          "output_type": "stream",
          "name": "stdout",
          "text": [
            "Введите первую строку: hello\n",
            "Введите вторую строку: olleh\n",
            "Строки являются анаграммами\n"
          ]
        }
      ]
    },
    {
      "cell_type": "code",
      "source": [
        "def find_students():\n",
        "    algebra = input().split()\n",
        "    geometry = input().split()\n",
        "    trigonometry = input().split()\n",
        "\n",
        "    solved_all = set(algebra) & set(geometry) & set(trigonometry)\n",
        "\n",
        "    if solved_all:\n",
        "        sorted_students = sorted(solved_all)\n",
        "        return ' '.join(sorted_students)\n",
        "    else:\n",
        "        return 'Все три задачи никто не решил'\n",
        "\n",
        "result = find_students()\n",
        "print(result)"
      ],
      "metadata": {
        "colab": {
          "base_uri": "https://localhost:8080/"
        },
        "id": "PZ5qfuMCNWT7",
        "outputId": "4e53c0e4-e5be-4122-b35c-7528e1d38cc8"
      },
      "execution_count": 28,
      "outputs": [
        {
          "output_type": "stream",
          "name": "stdout",
          "text": [
            "Иванов Петров Сидоров Михайлов\n",
            "Иванов Михайлов\n",
            "Сидоров Михайлов\n",
            "Михайлов\n"
          ]
        }
      ]
    }
  ]
}