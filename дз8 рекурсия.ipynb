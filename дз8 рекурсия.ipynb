{
  "nbformat": 4,
  "nbformat_minor": 0,
  "metadata": {
    "colab": {
      "provenance": []
    },
    "kernelspec": {
      "name": "python3",
      "display_name": "Python 3"
    },
    "language_info": {
      "name": "python"
    }
  },
  "cells": [
    {
      "cell_type": "code",
      "execution_count": 1,
      "metadata": {
        "colab": {
          "base_uri": "https://localhost:8080/"
        },
        "id": "qQcx0kO4yNUz",
        "outputId": "2b3530c4-201a-4ce2-8100-e8ed4115cb18"
      },
      "outputs": [
        {
          "output_type": "stream",
          "name": "stdout",
          "text": [
            "Максимальное число: 9\n"
          ]
        }
      ],
      "source": [
        "def find_max(lst):\n",
        "    if len(lst) == 1:\n",
        "        return lst[0]\n",
        "    else:\n",
        "        return max(lst[0], find_max(lst[1:]))\n",
        "numbers = [3, 7, 2, 9, 5]\n",
        "max_number = find_max(numbers)\n",
        "print(\"Максимальное число:\", max_number)\n"
      ]
    }
  ]
}