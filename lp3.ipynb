{
  "nbformat": 4,
  "nbformat_minor": 0,
  "metadata": {
    "colab": {
      "provenance": []
    },
    "kernelspec": {
      "name": "python3",
      "display_name": "Python 3"
    },
    "language_info": {
      "name": "python"
    }
  },
  "cells": [
    {
      "cell_type": "code",
      "source": [
        "n = int(input(\"Введите число\"))\n",
        "sum = 0\n",
        "while (n != 0):\n",
        "    a = n % 10\n",
        "    sum += a\n",
        "    n //= 10\n",
        "\n",
        "print(\"Сумма цифр числа:\", sum)"
      ],
      "metadata": {
        "colab": {
          "base_uri": "https://localhost:8080/"
        },
        "id": "6o5MIpqgdCVL",
        "outputId": "5f985451-bdc8-4156-9c0e-d7ba34ddd8ba"
      },
      "execution_count": 32,
      "outputs": [
        {
          "output_type": "stream",
          "name": "stdout",
          "text": [
            "Введите число55\n",
            "Сумма цифр числа: 10\n"
          ]
        }
      ]
    },
    {
      "cell_type": "code",
      "source": [
        "n = int(input())\n",
        "f = 0\n",
        "if n==0:\n",
        " print('0!=0')\n",
        "else:\n",
        "    f = 1\n",
        "    for i in range(2, n+1):\n",
        "     f = f * i\n",
        "    print(f)\n",
        "\n"
      ],
      "metadata": {
        "colab": {
          "base_uri": "https://localhost:8080/"
        },
        "id": "GMIfCcKKY8Vs",
        "outputId": "24f67b86-43c4-4dd8-bca4-f8a96662502a"
      },
      "execution_count": 15,
      "outputs": [
        {
          "output_type": "stream",
          "name": "stdout",
          "text": [
            "5\n",
            "120\n"
          ]
        }
      ]
    },
    {
      "cell_type": "code",
      "source": [
        "for i in range(106):\n",
        "    if i%7==0:\n",
        "        print(i)"
      ],
      "metadata": {
        "id": "d4xq6PlZe_Py"
      },
      "execution_count": null,
      "outputs": []
    }
  ]
}