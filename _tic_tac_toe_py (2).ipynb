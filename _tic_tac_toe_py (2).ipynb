{
  "nbformat": 4,
  "nbformat_minor": 0,
  "metadata": {
    "colab": {
      "provenance": [],
      "name": "-tic_tac_toe-py"
    },
    "kernelspec": {
      "name": "python3",
      "display_name": "Python 3"
    },
    "language_info": {
      "name": "python"
    }
  },
  "cells": [
    {
      "cell_type": "code",
      "source": [
        "import random\n",
        "def draw_board(field):\n",
        "    print(f\" {field[1]} ║ {field[2]} ║ {field[3]} \")\n",
        "    print(\"_____________\")\n",
        "    print(f\" {field[4]} ║ {field[5]} ║ {field[6]} \")\n",
        "    print(\"_____________\")\n",
        "    print(f\" {field[7]} ║ {field[8]} ║ {field[9]} \")\n",
        "def get_player_move(field, player_symbol):\n",
        "    while True:\n",
        "        move = int(input(\"Ваш ход (1-9): \"))\n",
        "        if move in range(1, 10) and field[move] == \" \":\n",
        "            field[move] = player_symbol\n",
        "            break\n",
        "        else:\n",
        "            print(\"Недопустимый ход, попробуйте снова\")\n",
        "def get_computer_move(field, computer_symbol):\n",
        "    while True:\n",
        "        move = random.randint(1, 9)\n",
        "        if field[move] == \" \":\n",
        "            field[move] = computer_symbol\n",
        "            break\n",
        "def check_win(field, player_symbol):\n",
        "    winning_combinations = [\n",
        "        [1, 2, 3],\n",
        "        [4, 5, 6],\n",
        "        [7, 8, 9],\n",
        "        [1, 4, 7],\n",
        "        [2, 5, 8],\n",
        "        [3, 6, 9],\n",
        "        [1, 5, 9],\n",
        "        [3, 5, 7]\n",
        "    ]\n",
        "\n",
        "    for combination in winning_combinations:\n",
        "        if field[combination[0]] == field[combination[1]] == field[combination[2]] == player_symbol:\n",
        "            return True\n",
        "\n",
        "    return False\n",
        "def main():\n",
        "    field = [\" \"] * 10\n",
        "\n",
        "    while True:\n",
        "        draw_board(field)\n",
        "\n",
        "        get_player_move(field, \"✕\")\n",
        "        if check_win(field, \"✕\"):\n",
        "            print(\"Вы выиграли!\")\n",
        "            break\n",
        "        if \" \" not in field:\n",
        "            print(\"Ничья!\")\n",
        "            break\n",
        "\n",
        "        get_computer_move(field, \"🔘\")\n",
        "        if check_win(field, \"🔘\"):\n",
        "            print(\"Увы, проигрыш!\")\n",
        "            break\n",
        "        if \" \" not in field:\n",
        "            print(\"Ничья!\")\n",
        "            break\n",
        "if __name__ == \"__main__\":\n",
        "    main()\n"
      ],
      "metadata": {
        "id": "cXLG1G0yaSN3",
        "colab": {
          "base_uri": "https://localhost:8080/"
        },
        "outputId": "455b767c-4b9f-4c4e-be8c-79a711fd5088"
      },
      "execution_count": 1,
      "outputs": [
        {
          "output_type": "stream",
          "name": "stdout",
          "text": [
            "   ║   ║   \n",
            "_____________\n",
            "   ║   ║   \n",
            "_____________\n",
            "   ║   ║   \n",
            "Ваш ход (1-9): 1\n",
            " ✕ ║   ║   \n",
            "_____________\n",
            "   ║   ║   \n",
            "_____________\n",
            "   ║   ║ 🔘 \n",
            "Ваш ход (1-9): 4\n",
            " ✕ ║   ║   \n",
            "_____________\n",
            " ✕ ║   ║   \n",
            "_____________\n",
            " 🔘 ║   ║ 🔘 \n",
            "Ваш ход (1-9): 2\n",
            " ✕ ║ ✕ ║ 🔘 \n",
            "_____________\n",
            " ✕ ║   ║   \n",
            "_____________\n",
            " 🔘 ║   ║ 🔘 \n",
            "Ваш ход (1-9): 8\n",
            "Увы, проигрыш!\n"
          ]
        }
      ]
    }
  ]
}