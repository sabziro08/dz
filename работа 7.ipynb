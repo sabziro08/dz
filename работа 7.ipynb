{
  "nbformat": 4,
  "nbformat_minor": 0,
  "metadata": {
    "colab": {
      "provenance": []
    },
    "kernelspec": {
      "name": "python3",
      "display_name": "Python 3"
    },
    "language_info": {
      "name": "python"
    }
  },
  "cells": [
    {
      "cell_type": "code",
      "source": [
        "list1 = [1, 2, 3, 4, 5]\n",
        "list2 = [6, 7, 8, 9, 10]\n",
        "\n",
        "result = list(map(lambda x, y: x + y, list1, list2))\n",
        "print(result)"
      ],
      "metadata": {
        "colab": {
          "base_uri": "https://localhost:8080/"
        },
        "id": "epLPZF2ESrGo",
        "outputId": "09dc5de0-64b6-43dc-925c-5142bd5bb181"
      },
      "execution_count": 15,
      "outputs": [
        {
          "output_type": "stream",
          "name": "stdout",
          "text": [
            "[7, 9, 11, 13, 15]\n"
          ]
        }
      ]
    },
    {
      "cell_type": "code",
      "source": [
        "numbers = [1, 19, 26, 39, 41, 52, 57, 65, 78, 91]\n",
        "\n",
        "result = list(filter(lambda x: x % 19 == 0 or x % 13 == 0, numbers))\n",
        "\n",
        "print(result)"
      ],
      "metadata": {
        "colab": {
          "base_uri": "https://localhost:8080/"
        },
        "id": "j8w_q-uXSvMx",
        "outputId": "eee4a154-0e7b-4834-d1cd-26dfbac9e004"
      },
      "execution_count": 16,
      "outputs": [
        {
          "output_type": "stream",
          "name": "stdout",
          "text": [
            "[19, 26, 39, 52, 57, 65, 78, 91]\n"
          ]
        }
      ]
    },
    {
      "cell_type": "code",
      "source": [
        "from functools import reduce\n",
        "\n",
        "def find_max(lst):\n",
        "    return reduce(lambda x, y: x if x > y else y, lst)\n",
        "\n",
        "my_list = [4, 2, 9, 5, 1]\n",
        "max_element = find_max(my_list)\n",
        "print(\"Наибольший элемент в списке:\", max_element)"
      ],
      "metadata": {
        "colab": {
          "base_uri": "https://localhost:8080/"
        },
        "id": "80YbhfuYVr6v",
        "outputId": "d9572bd5-0469-4537-a170-afe404fdb14b"
      },
      "execution_count": 20,
      "outputs": [
        {
          "output_type": "stream",
          "name": "stdout",
          "text": [
            "Наибольший элемент в списке: 9\n"
          ]
        }
      ]
    }
  ]
}