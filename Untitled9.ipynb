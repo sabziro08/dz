{
  "nbformat": 4,
  "nbformat_minor": 0,
  "metadata": {
    "colab": {
      "provenance": []
    },
    "kernelspec": {
      "name": "python3",
      "display_name": "Python 3"
    },
    "language_info": {
      "name": "python"
    }
  },
  "cells": [
    {
      "cell_type": "code",
      "source": [
        "t = ['Курск', 'Калуга', 'Анапа', 'Анапа', 'Абинск', 'Курск']\n",
        "result = {i: t.count(i) for i in t}\n",
        "\n",
        "print(result)"
      ],
      "metadata": {
        "colab": {
          "base_uri": "https://localhost:8080/"
        },
        "id": "uP5qb0-fF8DI",
        "outputId": "6f5a2a05-ab0a-443e-de88-0fc0836d00c1"
      },
      "execution_count": 90,
      "outputs": [
        {
          "output_type": "stream",
          "name": "stdout",
          "text": [
            "{'Курск': 2, 'Калуга': 1, 'Анапа': 2, 'Абинск': 1}\n"
          ]
        }
      ]
    },
    {
      "cell_type": "markdown",
      "source": [],
      "metadata": {
        "id": "2tRiSFAUOqqW"
      }
    },
    {
      "cell_type": "code",
      "source": [
        "def restore_capital_letters(text):\n",
        "    words = text.split()\n",
        "    result = []\n",
        "\n",
        "    for i, word in enumerate(words):\n",
        "        if i == 0:\n",
        "            result.append(word.capitalize())  #\n",
        "        else:\n",
        "            if word.endswith('.') or word.endswith('!') or word.endswith('?'):\n",
        "\n",
        "                result.append(word[0].upper() + word[1:])\n",
        "            else:\n",
        "                result.append(word)\n",
        "\n",
        "    return ' '.join(result)\n",
        "\n",
        "\n",
        "input_text = \"на этом заканчиваю свое сочинение. поставьте пятерку, Мария Ивановна! я очень старалась!\"\n",
        "output_text = restore_capital_letters(input_text)\n",
        "print(output_text)\n"
      ],
      "metadata": {
        "colab": {
          "base_uri": "https://localhost:8080/"
        },
        "id": "IRQvGXtBPc_3",
        "outputId": "6dacbe4d-935f-4715-eb67-d90d15babdec"
      },
      "execution_count": 102,
      "outputs": [
        {
          "output_type": "stream",
          "name": "stdout",
          "text": [
            "На этом заканчиваю свое Сочинение. поставьте пятерку, Мария Ивановна! я очень Старалась!\n"
          ]
        }
      ]
    },
    {
      "cell_type": "code",
      "source": [
        "words_list = [\"cat\", \"tac\", \"Play\", \"ay\"]\n",
        "anagrams = {}\n",
        "for i in words_list:\n",
        "    reverse_word=i[::-1]\n",
        "    if reverse_word in words_list:\n",
        "         anagrams[i] =(words_list.pop(words_list.index(reverse_word)))\n",
        "         print(anagrams)"
      ],
      "metadata": {
        "colab": {
          "base_uri": "https://localhost:8080/"
        },
        "id": "fRxC4KawPqDP",
        "outputId": "31f3682b-b048-4f5e-f67d-09bbc8cc23bb"
      },
      "execution_count": 103,
      "outputs": [
        {
          "output_type": "stream",
          "name": "stdout",
          "text": [
            "{'cat': 'tac'}\n"
          ]
        }
      ]
    },
    {
      "cell_type": "code",
      "source": [
        "first_line = input().split()\n",
        "second_line = input().split()\n",
        "third_line = input().split()\n",
        "\n",
        "students = set(first_line) & set(second_line) & set(third_line)\n",
        "\n",
        "if len(students) > 0:\n",
        "    print(\" \".join(sorted(students)))\n",
        "else:\n",
        "    print(\"Все три задачи никто не решил\")"
      ],
      "metadata": {
        "colab": {
          "base_uri": "https://localhost:8080/"
        },
        "id": "Y9JEYc9qQJBn",
        "outputId": "09b2ca8a-086e-4a0f-fac6-01218ec0bdee"
      },
      "execution_count": 104,
      "outputs": [
        {
          "output_type": "stream",
          "name": "stdout",
          "text": [
            "Иванов Петров Сидоров Михайлов\n",
            "Иванов Михайлов\n",
            "Сидоров Михайлов\n",
            "Михайлов\n"
          ]
        }
      ]
    }
  ]
}