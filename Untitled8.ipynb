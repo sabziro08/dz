{
  "nbformat": 4,
  "nbformat_minor": 0,
  "metadata": {
    "colab": {
      "provenance": []
    },
    "kernelspec": {
      "name": "python3",
      "display_name": "Python 3"
    },
    "language_info": {
      "name": "python"
    }
  },
  "cells": [
    {
      "cell_type": "code",
      "execution_count": 1,
      "metadata": {
        "colab": {
          "base_uri": "https://localhost:8080/"
        },
        "id": "2kHx83gzhK_6",
        "outputId": "110e7373-780f-41d7-aae0-40e48398f9cc"
      },
      "outputs": [
        {
          "output_type": "stream",
          "name": "stdout",
          "text": [
            "Введите строку: Death there mirth way the noisy merit\n",
            "['merit', 'noisy', 'the', 'way', 'mirth', 'there', 'Death']\n"
          ]
        }
      ],
      "source": [
        "input_string = input(\"Введите строку: \")\n",
        "word_list = input_string.split()\n",
        "reversed_list = word_list[::-1]\n",
        "print(reversed_list)"
      ]
    },
    {
      "cell_type": "code",
      "source": [
        "def print_even_chars(string):\n",
        "    even_chars = string[::2]\n",
        "    print(even_chars)\n",
        "\n",
        "input_string = input(\"Введите строку: \")\n",
        "print_even_chars(input_string)"
      ],
      "metadata": {
        "colab": {
          "base_uri": "https://localhost:8080/"
        },
        "id": "aSU0oNpqhTba",
        "outputId": "c35e83bc-1435-43c0-9757-356b845445e7"
      },
      "execution_count": 2,
      "outputs": [
        {
          "output_type": "stream",
          "name": "stdout",
          "text": [
            "Введите строку: In the hole in the ground there lived a hobbit\n",
            "I h oei h rudteelvdahbi\n"
          ]
        }
      ]
    },
    {
      "cell_type": "code",
      "source": [
        "numbers = input(\"Введите список чисел через пробел: \").split()\n",
        "n = int(input(\"Введите степень: \"))\n",
        "\n",
        "result = [int(num) ** n for num in numbers]\n",
        "print(result)"
      ],
      "metadata": {
        "colab": {
          "base_uri": "https://localhost:8080/"
        },
        "id": "iuJcU9cThsZq",
        "outputId": "f91ffb76-c99a-45fc-a4f6-b9bbb1a56c97"
      },
      "execution_count": 3,
      "outputs": [
        {
          "output_type": "stream",
          "name": "stdout",
          "text": [
            "Введите список чисел через пробел: 3 5 -7 -13 43 8 0 -13 8 -1 2\n",
            "Введите степень: 2\n",
            "[9, 25, 49, 169, 1849, 64, 0, 169, 64, 1, 4]\n"
          ]
        }
      ]
    },
    {
      "cell_type": "code",
      "source": [
        "text = input(\"Введите текст: \")\n",
        "symbol = input(\"Введите символ: \")\n",
        "\n",
        "doubled_text = text.replace(symbol, symbol*2)\n",
        "\n",
        "print(\"Результат:\", doubled_text)\n"
      ],
      "metadata": {
        "colab": {
          "base_uri": "https://localhost:8080/"
        },
        "id": "w1SLybrriKcB",
        "outputId": "d7819dc1-0e86-419f-c656-ffa528e3bec7"
      },
      "execution_count": 5,
      "outputs": [
        {
          "output_type": "stream",
          "name": "stdout",
          "text": [
            "Введите текст: Hello, world! How are you?\n",
            "Введите символ: o\n",
            "Результат: Helloo, woorld! Hoow are yoou?\n"
          ]
        }
      ]
    },
    {
      "cell_type": "code",
      "source": [
        "string = input(\"Введите строку: \")\n",
        "\n",
        "count_x = string.count('x')\n",
        "count_y = string.count('y')\n",
        "\n",
        "result = f\"x: {count_x}, y: {count_y}\"\n",
        "print(result)\n"
      ],
      "metadata": {
        "colab": {
          "base_uri": "https://localhost:8080/"
        },
        "id": "GvLDSWr3it1i",
        "outputId": "f90f5955-5c29-4a14-dbbd-518fe33b7528"
      },
      "execution_count": 6,
      "outputs": [
        {
          "output_type": "stream",
          "name": "stdout",
          "text": [
            "Введите строку: xyxyxyxy\n",
            "x: 4, y: 4\n"
          ]
        }
      ]
    },
    {
      "cell_type": "code",
      "source": [
        "text = \"When he saw Sally (a girl he used to go to school with) in the shop, he could not believe his eyes. She was fantastic (as always)!\"\n",
        "\n",
        "start_index = text.find(\"(\") + 1\n",
        "end_index = text.find(\")\")\n",
        "\n",
        "while start_index != 0 and end_index != -1:\n",
        "    content = text[start_index:end_index]\n",
        "    print(content)\n",
        "\n",
        "    start_index = text.find(\"(\", end_index) + 1\n",
        "    end_index = text.find(\")\", end_index + 1)"
      ],
      "metadata": {
        "colab": {
          "base_uri": "https://localhost:8080/"
        },
        "id": "48u_ETH6jGFh",
        "outputId": "e74715ff-4731-4970-96d8-97d778cf8059"
      },
      "execution_count": 7,
      "outputs": [
        {
          "output_type": "stream",
          "name": "stdout",
          "text": [
            "a girl he used to go to school with\n",
            "as always\n"
          ]
        }
      ]
    }
  ]
}