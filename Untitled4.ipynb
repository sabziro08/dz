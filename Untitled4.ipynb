{
  "nbformat": 4,
  "nbformat_minor": 0,
  "metadata": {
    "colab": {
      "provenance": []
    },
    "kernelspec": {
      "name": "python3",
      "display_name": "Python 3"
    },
    "language_info": {
      "name": "python"
    }
  },
  "cells": [
    {
      "cell_type": "code",
      "execution_count": 43,
      "metadata": {
        "colab": {
          "base_uri": "https://localhost:8080/"
        },
        "id": "RNN_bRSg1HPS",
        "outputId": "038cbe26-2c9d-48e5-f669-d7405cc1c510"
      },
      "outputs": [
        {
          "output_type": "stream",
          "name": "stdout",
          "text": [
            "22\n",
            "Данное число четное\n"
          ]
        }
      ],
      "source": [
        "a = int(input())\n",
        "if (a%2):\n",
        " print(\"Данное число не является четным\")\n",
        "else:\n",
        " print(\"Данное число четное\")"
      ]
    },
    {
      "cell_type": "code",
      "source": [
        "a = int(input())\n",
        "b = int(input())\n",
        "max_number = max(a,b)\n",
        "print(max_number)"
      ],
      "metadata": {
        "colab": {
          "base_uri": "https://localhost:8080/"
        },
        "id": "pF15p6Ff5jn5",
        "outputId": "617aff39-4449-4d10-88a2-7e8c70adfbf5"
      },
      "execution_count": 44,
      "outputs": [
        {
          "output_type": "stream",
          "name": "stdout",
          "text": [
            "5\n",
            "10\n",
            "10\n"
          ]
        }
      ]
    },
    {
      "cell_type": "code",
      "source": [
        "a = int(input(\"Напишите координату по вертикали\"))\n",
        "b = int(input(\"Напишите координату по горизонтали\"))\n",
        "if (a + b) % 2 != 0:\n",
        " print(\"YES\")\n",
        "else:\n",
        " print(\"NO\")"
      ],
      "metadata": {
        "colab": {
          "base_uri": "https://localhost:8080/"
        },
        "id": "7m7L_9JO6rN3",
        "outputId": "64641f08-daef-4e60-827e-4cfa681da303"
      },
      "execution_count": 46,
      "outputs": [
        {
          "output_type": "stream",
          "name": "stdout",
          "text": [
            "Напишите координату по вертикали5\n",
            "Напишите координату по горизонтали1\n",
            "NO\n"
          ]
        }
      ]
    }
  ]
}