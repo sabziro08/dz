{
  "nbformat": 4,
  "nbformat_minor": 0,
  "metadata": {
    "colab": {
      "provenance": []
    },
    "kernelspec": {
      "name": "python3",
      "display_name": "Python 3"
    },
    "language_info": {
      "name": "python"
    }
  },
  "cells": [
    {
      "cell_type": "markdown",
      "source": [],
      "metadata": {
        "id": "zZA0JBdP5o6Q"
      }
    },
    {
      "cell_type": "code",
      "execution_count": 42,
      "metadata": {
        "colab": {
          "base_uri": "https://localhost:8080/"
        },
        "id": "ouNkGl4N2Bli",
        "outputId": "8794b4c6-467a-42e6-b88d-73fc1dace0c2"
      },
      "outputs": [
        {
          "output_type": "stream",
          "name": "stdout",
          "text": [
            "['merit', 'noisy', 'the', 'way', 'mirth', 'there', 'Death']\n"
          ]
        }
      ],
      "source": [
        "s = \"Death there mirth way the noisy merit\"\n",
        "A = s.split()\n",
        "A.reverse()\n",
        "print(A)"
      ]
    },
    {
      "cell_type": "code",
      "source": [
        "A = \"In the hole in the ground there lived a hobbit\"\n",
        "for i in range(0, len(A), 2):\n",
        " print(A[i], end=\"\")"
      ],
      "metadata": {
        "colab": {
          "base_uri": "https://localhost:8080/"
        },
        "id": "2KzF2bCJ_a7H",
        "outputId": "8dcca891-2407-4b66-9768-135e19bbc002"
      },
      "execution_count": 47,
      "outputs": [
        {
          "output_type": "stream",
          "name": "stdout",
          "text": [
            "I h oei h rudteelvdahbi"
          ]
        }
      ]
    },
    {
      "cell_type": "code",
      "source": [
        "numbers = input(\"Введите список чисел через пробел: \").split()\n",
        "n = int(input(\"Введите степень: \"))\n",
        "\n",
        "result = [int(num)**n for num in numbers]\n",
        "print(result)"
      ],
      "metadata": {
        "colab": {
          "base_uri": "https://localhost:8080/"
        },
        "id": "Z8qkuPlJ5pIw",
        "outputId": "88c8d13a-89a7-48e0-dda6-7c4b8ad2155a"
      },
      "execution_count": 56,
      "outputs": [
        {
          "output_type": "stream",
          "name": "stdout",
          "text": [
            "Введите список чисел через пробел: 3 5 -7 -13 43 8 0 -13 8 -1 2\n",
            "Введите степень: 2\n",
            "[9, 25, 49, 169, 1849, 64, 0, 169, 64, 1, 4]\n"
          ]
        }
      ]
    },
    {
      "cell_type": "code",
      "source": [
        "text = input(\"Введите текст: \")\n",
        "symbol = input(\"Введите символ: \")\n",
        "\n",
        "doubled_text = text.replace(symbol, symbol*2)\n",
        "print(doubled_text)\n"
      ],
      "metadata": {
        "colab": {
          "base_uri": "https://localhost:8080/"
        },
        "id": "XtlGB72JDYxO",
        "outputId": "b12059ec-50b1-4c54-cada-15c7763d48b8"
      },
      "execution_count": 57,
      "outputs": [
        {
          "output_type": "stream",
          "name": "stdout",
          "text": [
            "Введите текст: Death there mirth way the noisy merit\n",
            "Введите символ: a\n",
            "Deaath there mirth waay the noisy merit\n"
          ]
        }
      ]
    },
    {
      "cell_type": "code",
      "source": [
        "def count_chars(string):\n",
        "    count_x = string.count('x')\n",
        "    count_y = string.count('y')\n",
        "    result = f'x: {count_x}, y: {count_y}'\n",
        "    print(result)"
      ],
      "metadata": {
        "id": "DvFnm56ID9_m"
      },
      "execution_count": 66,
      "outputs": []
    },
    {
      "cell_type": "code",
      "source": [
        "def remove_brackets(text):\n",
        "    result = \"\"\n",
        "    inside_brackets = False\n",
        "\n",
        "    for char in text:\n",
        "        if char == '(':\n",
        "            inside_brackets = True\n",
        "        elif char == ')':\n",
        "            inside_brackets = False\n",
        "        elif not inside_brackets:\n",
        "            result += char\n",
        "\n",
        "    return result.strip()\n",
        "\n",
        "text = \"When he saw Sally (a girl he used to go to school with) in the shop, he could not believe his eyes. She was fantastic (as always)!\"\n",
        "result = remove_brackets(text)\n",
        "print(result)"
      ],
      "metadata": {
        "id": "5ZomJh8dGkhQ"
      },
      "execution_count": null,
      "outputs": []
    }
  ]
}